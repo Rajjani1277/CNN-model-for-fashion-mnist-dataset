{
 "cells": [
  {
   "cell_type": "markdown",
   "metadata": {},
   "source": [
    "# Importing Libraries"
   ]
  },
  {
   "cell_type": "code",
   "execution_count": 0,
   "metadata": {
    "colab": {},
    "colab_type": "code",
    "id": "fdrGPCV6Q3Q4"
   },
   "outputs": [],
   "source": [
    "import tensorflow as tf\n",
    "from tensorflow.keras.models import Sequential #model selection\n",
    "from tensorflow.keras.layers import Dense, MaxPool2D, Conv2D, Dropout, Flatten #different layers to create neural network\n",
    "\n",
    "fashion_mnist = tf.keras.datasets.fashion_mnist #load our detaset"
   ]
  },
  {
   "cell_type": "markdown",
   "metadata": {},
   "source": [
    "# Importing Dataset"
   ]
  },
  {
   "cell_type": "code",
   "execution_count": 0,
   "metadata": {
    "colab": {},
    "colab_type": "code",
    "id": "gY2fo0LLbZoI"
   },
   "outputs": [],
   "source": [
    "(x_train, y_train), (x_test, y_test) = fashion_mnist.load_data()"
   ]
  },
  {
   "cell_type": "code",
   "execution_count": 0,
   "metadata": {
    "colab": {},
    "colab_type": "code",
    "id": "e8MpyCrJlQ9n"
   },
   "outputs": [],
   "source": [
    "#convert dataset between 0 to 1\n",
    "\n",
    "x_train = x_train / 255.0\n",
    "x_test = x_test / 255.0\n"
   ]
  },
  {
   "cell_type": "code",
   "execution_count": 18,
   "metadata": {
    "colab": {
     "base_uri": "https://localhost:8080/",
     "height": 34
    },
    "colab_type": "code",
    "id": "yl-rIRvHlmO9",
    "outputId": "61ed089b-d5d5-4edf-b6e9-6560ca8ac7cd"
   },
   "outputs": [
    {
     "name": "stdout",
     "output_type": "stream",
     "text": [
      "(60000, 28, 28, 1) (10000, 28, 28, 1)\n"
     ]
    }
   ],
   "source": [
    "#reshape our dataset to know model about dataset\n",
    "\n",
    "x_train = x_train.reshape(len(x_train), 28, 28, 1)\n",
    "x_test = x_test.reshape(len(x_test), 28, 28, 1)\n",
    "print(x_train.shape, x_test.shape)"
   ]
  },
  {
   "cell_type": "markdown",
   "metadata": {},
   "source": [
    "# Creating CNN Model"
   ]
  },
  {
   "cell_type": "code",
   "execution_count": 0,
   "metadata": {
    "colab": {},
    "colab_type": "code",
    "id": "7qcGBHqYlmRr"
   },
   "outputs": [],
   "source": [
    "model = Sequential() #define sequential model\n",
    "\n",
    "#create first concolution layer\n",
    "model.add(Conv2D(filters=28, padding='same',\n",
    "                 activation='relu', kernel_size=3, \n",
    "                 kernel_initializer='he_uniform', input_shape=(28,28,1)))\n",
    "\n",
    "#create second convolution layer\n",
    "model.add(Conv2D(filters=28, padding='same',\n",
    "                 activation='relu', kernel_size=5, \n",
    "                 kernel_initializer='he_uniform'))\n",
    "\n",
    "#create maxpool layer\n",
    "model.add(MaxPool2D(pool_size=(2, 2), padding='valid', strides=2))\n",
    "model.add(Dropout(0.3))\n",
    "\n",
    "#create flatten layer \n",
    "model.add(Flatten())\n",
    "\n",
    "#create hidden layer\n",
    "model.add(Dense(units=64, activation='relu', kernel_initializer='he_uniform'))\n",
    "\n",
    "#create output layer\n",
    "model.add(Dense(units=10, activation='softmax'))\n"
   ]
  },
  {
   "cell_type": "code",
   "execution_count": 9,
   "metadata": {
    "colab": {
     "base_uri": "https://localhost:8080/",
     "height": 386
    },
    "colab_type": "code",
    "id": "-JpEr6ezlmUi",
    "outputId": "732cb781-3a84-4d98-fe38-210363ba32de"
   },
   "outputs": [
    {
     "name": "stdout",
     "output_type": "stream",
     "text": [
      "Model: \"sequential\"\n",
      "_________________________________________________________________\n",
      "Layer (type)                 Output Shape              Param #   \n",
      "=================================================================\n",
      "conv2d (Conv2D)              (None, 28, 28, 28)        280       \n",
      "_________________________________________________________________\n",
      "conv2d_1 (Conv2D)            (None, 28, 28, 28)        19628     \n",
      "_________________________________________________________________\n",
      "max_pooling2d (MaxPooling2D) (None, 14, 14, 28)        0         \n",
      "_________________________________________________________________\n",
      "dropout (Dropout)            (None, 14, 14, 28)        0         \n",
      "_________________________________________________________________\n",
      "flatten (Flatten)            (None, 5488)              0         \n",
      "_________________________________________________________________\n",
      "dense (Dense)                (None, 64)                351296    \n",
      "_________________________________________________________________\n",
      "dense_1 (Dense)              (None, 10)                650       \n",
      "=================================================================\n",
      "Total params: 371,854\n",
      "Trainable params: 371,854\n",
      "Non-trainable params: 0\n",
      "_________________________________________________________________\n"
     ]
    }
   ],
   "source": [
    "#To see our nueral network summary\n",
    "model.summary()"
   ]
  },
  {
   "cell_type": "code",
   "execution_count": 0,
   "metadata": {
    "colab": {},
    "colab_type": "code",
    "id": "alvzP1UrlmXX"
   },
   "outputs": [],
   "source": [
    "#Compiling model with optimizer and loss function\n",
    "\n",
    "model.compile(optimizer='adam', loss='sparse_categorical_crossentropy', metrics=['accuracy'])"
   ]
  },
  {
   "cell_type": "markdown",
   "metadata": {},
   "source": [
    "# Train our CNN model"
   ]
  },
  {
   "cell_type": "code",
   "execution_count": 11,
   "metadata": {
    "colab": {
     "base_uri": "https://localhost:8080/",
     "height": 706
    },
    "colab_type": "code",
    "id": "0_X8E2rIlmaE",
    "outputId": "92b30bb4-227f-4de2-f169-3e51ae2ec23c"
   },
   "outputs": [
    {
     "name": "stdout",
     "output_type": "stream",
     "text": [
      "Epoch 1/20\n",
      "6000/6000 [==============================] - 15s 2ms/step - loss: 0.3745 - accuracy: 0.8654\n",
      "Epoch 2/20\n",
      "6000/6000 [==============================] - 14s 2ms/step - loss: 0.2526 - accuracy: 0.9066\n",
      "Epoch 3/20\n",
      "6000/6000 [==============================] - 16s 3ms/step - loss: 0.2095 - accuracy: 0.9222\n",
      "Epoch 4/20\n",
      "6000/6000 [==============================] - 15s 2ms/step - loss: 0.1799 - accuracy: 0.9323\n",
      "Epoch 5/20\n",
      "6000/6000 [==============================] - 15s 2ms/step - loss: 0.1581 - accuracy: 0.9393\n",
      "Epoch 6/20\n",
      "6000/6000 [==============================] - 15s 2ms/step - loss: 0.1448 - accuracy: 0.9459\n",
      "Epoch 7/20\n",
      "6000/6000 [==============================] - 15s 2ms/step - loss: 0.1308 - accuracy: 0.9505\n",
      "Epoch 8/20\n",
      "6000/6000 [==============================] - 15s 3ms/step - loss: 0.1190 - accuracy: 0.9555\n",
      "Epoch 9/20\n",
      "6000/6000 [==============================] - 15s 3ms/step - loss: 0.1110 - accuracy: 0.9583\n",
      "Epoch 10/20\n",
      "6000/6000 [==============================] - 15s 2ms/step - loss: 0.1034 - accuracy: 0.9611\n",
      "Epoch 11/20\n",
      "6000/6000 [==============================] - 15s 2ms/step - loss: 0.0942 - accuracy: 0.9645\n",
      "Epoch 12/20\n",
      "6000/6000 [==============================] - 15s 2ms/step - loss: 0.0879 - accuracy: 0.9670\n",
      "Epoch 13/20\n",
      "6000/6000 [==============================] - 15s 2ms/step - loss: 0.0845 - accuracy: 0.9689\n",
      "Epoch 14/20\n",
      "6000/6000 [==============================] - 15s 2ms/step - loss: 0.0831 - accuracy: 0.9691\n",
      "Epoch 15/20\n",
      "6000/6000 [==============================] - 15s 2ms/step - loss: 0.0786 - accuracy: 0.9714\n",
      "Epoch 16/20\n",
      "6000/6000 [==============================] - 15s 2ms/step - loss: 0.0753 - accuracy: 0.9736\n",
      "Epoch 17/20\n",
      "6000/6000 [==============================] - 15s 2ms/step - loss: 0.0721 - accuracy: 0.9743\n",
      "Epoch 18/20\n",
      "6000/6000 [==============================] - 15s 2ms/step - loss: 0.0688 - accuracy: 0.9750\n",
      "Epoch 19/20\n",
      "6000/6000 [==============================] - 15s 2ms/step - loss: 0.0668 - accuracy: 0.9766\n",
      "Epoch 20/20\n",
      "6000/6000 [==============================] - 15s 3ms/step - loss: 0.0672 - accuracy: 0.9766\n"
     ]
    },
    {
     "data": {
      "text/plain": [
       "<tensorflow.python.keras.callbacks.History at 0x7f7e20295160>"
      ]
     },
     "execution_count": 11,
     "metadata": {
      "tags": []
     },
     "output_type": "execute_result"
    }
   ],
   "source": [
    "model.fit(x_train, y_train, batch_size=10, verbose=1, epochs=20)"
   ]
  },
  {
   "cell_type": "markdown",
   "metadata": {},
   "source": [
    "# Evaluate and Checking accuracy of Model"
   ]
  },
  {
   "cell_type": "code",
   "execution_count": 17,
   "metadata": {
    "colab": {
     "base_uri": "https://localhost:8080/",
     "height": 50
    },
    "colab_type": "code",
    "id": "VQEIYWeWwD1a",
    "outputId": "37f595f4-5f7c-4a34-b6f4-e85f57913a9e"
   },
   "outputs": [
    {
     "name": "stdout",
     "output_type": "stream",
     "text": [
      "313/313 [==============================] - 1s 3ms/step - loss: 0.3638 - accuracy: 0.9235\n"
     ]
    },
    {
     "data": {
      "text/plain": [
       "[0.3637751042842865, 0.9235000014305115]"
      ]
     },
     "execution_count": 17,
     "metadata": {
      "tags": []
     },
     "output_type": "execute_result"
    }
   ],
   "source": [
    "model.evaluate(x_test, y_test)"
   ]
  }
 ],
 "metadata": {
  "accelerator": "GPU",
  "colab": {
   "collapsed_sections": [],
   "name": "Welcome To Colaboratory",
   "provenance": [],
   "toc_visible": true
  },
  "kernelspec": {
   "display_name": "Python 3",
   "language": "python",
   "name": "python3"
  },
  "language_info": {
   "codemirror_mode": {
    "name": "ipython",
    "version": 3
   },
   "file_extension": ".py",
   "mimetype": "text/x-python",
   "name": "python",
   "nbconvert_exporter": "python",
   "pygments_lexer": "ipython3",
   "version": "3.7.6"
  }
 },
 "nbformat": 4,
 "nbformat_minor": 1
}
